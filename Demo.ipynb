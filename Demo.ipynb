{
 "cells": [
  {
   "cell_type": "code",
   "execution_count": 1,
   "metadata": {},
   "outputs": [],
   "source": [
    "import gym\n",
    "import time\n",
    "import numpy as np\n",
    "import tensorflow as tf\n",
    "from tensorflow import keras\n",
    "from atari_breakout_DQN.src.env_wrapper import EnvWrapper\n",
    "from IPython.display import clear_output"
   ]
  },
  {
   "cell_type": "code",
   "execution_count": 2,
   "metadata": {},
   "outputs": [],
   "source": [
    "gym_env = gym.make(\"BreakoutNoFrameskip-v4\")\n",
    "env = EnvWrapper(gym_env, frame_stack=4, frame_skip=4, seed=42)"
   ]
  },
  {
   "cell_type": "code",
   "execution_count": 3,
   "metadata": {},
   "outputs": [],
   "source": [
    "def epsilon_greedy_policy(state):\n",
    "  epsilon = 0.05\n",
    "  if np.random.rand() < epsilon:\n",
    "    return np.random.randint(env.action_space.n)\n",
    "  else:\n",
    "    state_tensor = tf.expand_dims(tf.convert_to_tensor(state), 0)\n",
    "    action_probs = model(state_tensor)\n",
    "    return tf.argmax(action_probs[0]).numpy()"
   ]
  },
  {
   "cell_type": "code",
   "execution_count": 4,
   "metadata": {},
   "outputs": [
    {
     "name": "stderr",
     "output_type": "stream",
     "text": [
      "C:\\Users\\milom\\anaconda3\\lib\\site-packages\\tensorflow\\python\\keras\\layers\\core.py:1057: UserWarning: src.dqn_model is not loaded, but a Lambda layer uses it. It may cause errors.\n",
      "  warnings.warn('{} is not loaded, but a Lambda layer uses it. '\n"
     ]
    },
    {
     "name": "stdout",
     "output_type": "stream",
     "text": [
      "WARNING:tensorflow:No training configuration found in save file, so the model was *not* compiled. Compile it manually.\n"
     ]
    }
   ],
   "source": [
    "path = \"./atari_breakout_DQN/models/DuellingDQN/model_adam/\"\n",
    "model = keras.models.load_model(path)"
   ]
  },
  {
   "cell_type": "code",
   "execution_count": 5,
   "metadata": {},
   "outputs": [
    {
     "name": "stdout",
     "output_type": "stream",
     "text": [
      "Steps to complete the episode: 725\n",
      "Total reward: 23.0\n",
      "Steps to complete the episode: 1106\n",
      "Total reward: 49.0\n",
      "Steps to complete the episode: 168\n",
      "Total reward: 16.0\n",
      "Steps to complete the episode: 193\n",
      "Total reward: 5.0\n",
      "Steps to complete the episode: 176\n",
      "Total reward: 2.0\n"
     ]
    }
   ],
   "source": [
    "observation = env.reset()\n",
    "games = 5\n",
    "steps = 0\n",
    "total_reward = 0\n",
    "while games:\n",
    "  env.render()\n",
    "  time.sleep(0.05)\n",
    "  action = epsilon_greedy_policy(observation)\n",
    "  observation, reward, done, info = env.step(action)\n",
    "  total_reward += reward\n",
    "  steps += 1\n",
    "  if done:\n",
    "    observation = env.reset()\n",
    "    games -= 1\n",
    "    print(f\"Steps to complete the episode: {steps}\")\n",
    "    print(f\"Total reward: {total_reward}\")\n",
    "    total_reward = 0\n",
    "    steps = 0\n",
    "env.close()"
   ]
  }
 ],
 "metadata": {
  "kernelspec": {
   "display_name": "Python 3",
   "language": "python",
   "name": "python3"
  },
  "language_info": {
   "codemirror_mode": {
    "name": "ipython",
    "version": 3
   },
   "file_extension": ".py",
   "mimetype": "text/x-python",
   "name": "python",
   "nbconvert_exporter": "python",
   "pygments_lexer": "ipython3",
   "version": "3.8.5"
  }
 },
 "nbformat": 4,
 "nbformat_minor": 4
}
